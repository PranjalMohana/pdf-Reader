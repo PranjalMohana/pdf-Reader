{
 "cells": [
  {
   "cell_type": "code",
   "execution_count": 46,
   "id": "b711998f",
   "metadata": {},
   "outputs": [],
   "source": [
    "import streamlit as st\n",
    "from langchain.vectorstores.cassandra import Cassandra\n",
    "import cassio\n",
    "from langchain.llms import OpenAI\n",
    "from langchain.embeddings import OpenAIEmbeddings\n",
    "from langchain.indexes.vectorstore import VectorStoreIndexWrapper\n",
    "from langchain.llms import OpenAI\n",
    "from langchain.embeddings import OpenAIEmbeddings\n",
    "from typing_extensions import Concatenate\n",
    "from langchain.text_splitter import CharacterTextSplitter\n",
    "from pypdf import PdfReader\n",
    "from langchain_community.llms import OpenAI"
   ]
  },
  {
   "cell_type": "code",
   "execution_count": 47,
   "id": "d4f110b0",
   "metadata": {},
   "outputs": [],
   "source": [
    "# Set up Streamlit page\n",
    "st.title(\"Search for query\")\n",
    "\n",
    "# Input your AstraDB and OpenAI credentials\n",
    "ASTRA_DB_APPLICATION_TOKEN = \"AstraCS:dvhmxMiwHeIgjNcOePvQqynw:6e94b5c21fe013849421f626c1f0cdddbc70e5e4909e81f702972d20b3398b3d\"\n",
    "ASTRA_DB_ID =\"be688535-2592-4339-9f95-5383184389b3\"\n",
    "OPENAI_API_KEY = \"enter ur api key\"\n",
    "ASTRA_DB_API_ENDPOINT = \"https://be688535-2592-4339-9f95-5383184389b3-us-east1.apps.astra.datastax.com\""
   ]
  },
  {
   "cell_type": "code",
   "execution_count": 48,
   "id": "e08cb5c0",
   "metadata": {},
   "outputs": [],
   "source": [
    "# Read PDF and extract text\n",
    "pdfreader = PdfReader(\"48lawsofpower.pdf\")\n",
    "raw_text = ''\n",
    "for i, page in enumerate(pdfreader.pages):\n",
    "    content = page.extract_text()\n",
    "    if content:\n",
    "        raw_text += content\n",
    "\n",
    "# Initialize AstraDB\n",
    "cassio.init(token=ASTRA_DB_APPLICATION_TOKEN, database_id=ASTRA_DB_ID)\n",
    "\n",
    "# Initialize OpenAI\n",
    "llm = OpenAI(openai_api_key=OPENAI_API_KEY)\n",
    "embedding = OpenAIEmbeddings(openai_api_key=OPENAI_API_KEY)"
   ]
  },
  {
   "cell_type": "code",
   "execution_count": 49,
   "id": "963fb1bd",
   "metadata": {},
   "outputs": [],
   "source": [
    "# Initialize AstraDB Vector Store\n",
    "astra_vector_store = Cassandra(\n",
    "    embedding=embedding,\n",
    "    table_name=\"my_desired_table\",\n",
    "    session=None,\n",
    "    keyspace=None,\n",
    ")\n",
    "\n",
    "# Split text using Character Text Splitter\n",
    "text_splitter = CharacterTextSplitter(\n",
    "    separator=\"\\n\",\n",
    "    chunk_size=800,\n",
    "    chunk_overlap=200,\n",
    "    length_function=len,\n",
    ")\n",
    "texts = text_splitter.split_text(raw_text)\n"
   ]
  },
  {
   "cell_type": "code",
   "execution_count": 50,
   "id": "aad6a27d",
   "metadata": {},
   "outputs": [],
   "source": [
    "# Add texts to AstraDB Vector Store\n",
    "astra_vector_store.add_texts(texts)\n",
    "\n",
    "# Display number of headlines inserted\n",
    "st.write(f\"Inserted {len(texts)} headlines.\")\n",
    "\n",
    "# Initialize AstraDB Vector Store Index\n",
    "astra_vector_index = VectorStoreIndexWrapper(vectorstore=astra_vector_store)\n"
   ]
  },
  {
   "cell_type": "code",
   "execution_count": null,
   "id": "ef35b0ac",
   "metadata": {},
   "outputs": [],
   "source": [
    "# User interaction loop\n",
    "first_question = True\n",
    "while True:\n",
    "    if first_question:\n",
    "        query_text = st.text_input(\"Enter your question (or type 'quit' to exit):\", key=\"question_input\").strip()\n",
    "    else:\n",
    "        query_text = st.text_input(\"What's your next question (or type 'quit' to exit):\", key=\"next_question_input\").strip()\n",
    "\n",
    "    # ... (other code)\n",
    "\n",
    "    if query_text.lower() == \"quit\":\n",
    "        break\n",
    "\n",
    "    if query_text == \"\":\n",
    "        continue\n",
    "\n",
    "    first_question = False\n",
    "\n",
    "    st.write(f\"\\nQUESTION: \\\"{query_text}\\\"\")\n",
    "    answer = astra_vector_index.query(query_text, llm=llm).strip()\n",
    "    st.write(f\"ANSWER: \\\"{answer}\\\"\")\n",
    "\n",
    "    st.write(\"FIRST DOCUMENTS BY RELEVANCE:\")\n",
    "    for doc, score in astra_vector_store.similarity_search_with_score(query_text, k=4):\n",
    "        st.write(f\"    [{score:.4f}] \\\"{doc.page_content[:84]} ...\\\"\")"
   ]
  },
  {
   "cell_type": "code",
   "execution_count": null,
   "id": "81a69fe8",
   "metadata": {},
   "outputs": [],
   "source": [
    "streamlit_version = st.__version__\n",
    "print(f\"Streamlit version: {streamlit_version}\")"
   ]
  },
  {
   "cell_type": "code",
   "execution_count": null,
   "id": "0d9150a9",
   "metadata": {},
   "outputs": [],
   "source": []
  },
  {
   "cell_type": "code",
   "execution_count": null,
   "id": "5ef021a5",
   "metadata": {},
   "outputs": [],
   "source": []
  },
  {
   "cell_type": "code",
   "execution_count": null,
   "id": "894a7fc6",
   "metadata": {},
   "outputs": [],
   "source": []
  },
  {
   "cell_type": "code",
   "execution_count": null,
   "id": "9dd4ad64",
   "metadata": {},
   "outputs": [],
   "source": []
  },
  {
   "cell_type": "code",
   "execution_count": null,
   "id": "776e5fdd",
   "metadata": {},
   "outputs": [],
   "source": []
  },
  {
   "cell_type": "code",
   "execution_count": null,
   "id": "62a341b1",
   "metadata": {},
   "outputs": [],
   "source": []
  }
 ],
 "metadata": {
  "kernelspec": {
   "display_name": "Python 3 (ipykernel)",
   "language": "python",
   "name": "python3"
  },
  "language_info": {
   "codemirror_mode": {
    "name": "ipython",
    "version": 3
   },
   "file_extension": ".py",
   "mimetype": "text/x-python",
   "name": "python",
   "nbconvert_exporter": "python",
   "pygments_lexer": "ipython3",
   "version": "3.9.12"
  }
 },
 "nbformat": 4,
 "nbformat_minor": 5
}
